{
  "nbformat": 4,
  "nbformat_minor": 0,
  "metadata": {
    "colab": {
      "provenance": []
    },
    "kernelspec": {
      "name": "python3",
      "display_name": "Python 3"
    },
    "language_info": {
      "name": "python"
    }
  },
  "cells": [
    {
      "cell_type": "code",
      "execution_count": 1,
      "metadata": {
        "colab": {
          "base_uri": "https://localhost:8080/"
        },
        "id": "CSQPryZcydB7",
        "outputId": "14ba4144-2069-461e-fa52-232b198300cd"
      },
      "outputs": [
        {
          "output_type": "execute_result",
          "data": {
            "text/plain": [
              "8"
            ]
          },
          "metadata": {},
          "execution_count": 1
        }
      ],
      "source": [
        "2*4 #simple arithmetic operation"
      ]
    },
    {
      "cell_type": "markdown",
      "source": [
        "The major strength of using repositories such as GitHub and tracking changes is for accessibility, transparency, and collaboration of computational analysis. Not only will it allow other researchers across the world to utilize the computational methods that you have pioneered, but it provides a very quick and robust method for other groups to re-run and validate your work. This necessitates uploading all the analysis files and deidentified/anonymized raw data. If there are any issues that come up, Github allows for external individuals to reach out and voice their questions or concerns, potentially allowing for the error to be rectified and updated for other groups. Github records changes automatically, so it allows for individuals to utilize prior versions of the code if their unique computational analysis is only compatible with that.\n",
        "\n",
        "Best practices for these would include standardizing file names (including project, date, etc.) and routinely adding comments in the code describing the functionality of each seqment of code. With many journals requiring this for publication, the format will become more and more standardized as time passes, and the resulting data and code repositories will be easier to navigate.\n",
        "\n",
        "The requirement for publishing code will incentivize researchers to me more thoughful, transparent, and candid about data analysis, filtering and representation steps because anyone can identify outliers when performing their own analysis with the published raw data (and look at differences found in the published analysis code).\n",
        "\n",
        "In short, the use of repositories and tracking changes allows for a centralized and accesible dissemination of computational methods and the ensuing transparency allows for the natural and healthy internal monitoring and support of the broader computational scientific community.\n",
        "\n",
        "\n"
      ],
      "metadata": {
        "id": "hWt8xF2Gy3ee"
      }
    }
  ]
}